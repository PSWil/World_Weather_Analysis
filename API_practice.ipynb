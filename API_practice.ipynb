{
 "cells": [
  {
   "cell_type": "code",
   "execution_count": 1,
   "source": [
    "# Create a practice set of random latitude and longitude combinations.\r\n",
    "x = [25.12903645, 25.92017388, 26.62509167, -59.98969384, 37.30571269]\r\n",
    "y = [-67.59741259, 11.09532135, 74.84233102, -76.89176677, -61.13376282]\r\n",
    "coordinates = zip(x, y)"
   ],
   "outputs": [],
   "metadata": {}
  },
  {
   "cell_type": "code",
   "execution_count": 2,
   "source": [
    "# Use the tuple() function to display the latitude and longitude combination\r\n",
    "for coordinate in coordinates:\r\n",
    "    print(coordinate[0], coordinate[1])"
   ],
   "outputs": [
    {
     "output_type": "stream",
     "name": "stdout",
     "text": [
      "25.12903645 -67.59741259\n",
      "25.92017388 11.09532135\n",
      "26.62509167 74.84233102\n",
      "-59.98969384 -76.89176677\n",
      "37.30571269 -61.13376282\n"
     ]
    }
   ],
   "metadata": {}
  },
  {
   "cell_type": "code",
   "execution_count": 3,
   "source": [
    "# Use the citipy module to determine city based on latitude and longitude.\r\n",
    "from citipy import citipy"
   ],
   "outputs": [],
   "metadata": {}
  },
  {
   "cell_type": "code",
   "execution_count": 4,
   "source": [
    "# Use the tuple() function to display the latitude and longitude combinations.\r\n",
    "for coordinate in coordinates:\r\n",
    "    print(citipy.nearest_city(coordinate[0], coordinate[1]).city_name,\r\n",
    "          citipy.nearest_city(coordinate[0], coordinate[1]).country_code)"
   ],
   "outputs": [],
   "metadata": {}
  },
  {
   "cell_type": "code",
   "execution_count": 5,
   "source": [
    "# Import the requests library.\r\n",
    "import requests\r\n",
    "\r\n",
    "# Import the API key.\r\n",
    "from config import weather_api_key"
   ],
   "outputs": [],
   "metadata": {}
  },
  {
   "cell_type": "code",
   "execution_count": 6,
   "source": [
    "# Starting URL for Weather Map API Call.\r\n",
    "url = \"http://api.openweathermap.org/data/2.5/weather?units=Imperial&APPID=\" + weather_api_key\r\n",
    "# http://api.openweathermap.org/data/2.5/weather?units=Imperial&APPID=f0cb148ad20ab81ce62a794ee2720865\r\n",
    "\r\n",
    "print(url)"
   ],
   "outputs": [
    {
     "output_type": "stream",
     "name": "stdout",
     "text": [
      "http://api.openweathermap.org/data/2.5/weather?units=Imperial&APPID=f0cb148ad20ab81ce62a794ee2720865\n"
     ]
    }
   ],
   "metadata": {}
  },
  {
   "cell_type": "code",
   "execution_count": 7,
   "source": [
    "# Create an endpoint URL for a city.\r\n",
    "city_url = url + \"&q=\" + \"Boston\"\r\n",
    "print(city_url)"
   ],
   "outputs": [
    {
     "output_type": "stream",
     "name": "stdout",
     "text": [
      "http://api.openweathermap.org/data/2.5/weather?units=Imperial&APPID=f0cb148ad20ab81ce62a794ee2720865&q=Boston\n"
     ]
    }
   ],
   "metadata": {}
  },
  {
   "cell_type": "code",
   "execution_count": 8,
   "source": [
    "# Make a 'Get' request for the city weather.\r\n",
    "city_weather = requests.get(city_url)\r\n",
    "city_weather"
   ],
   "outputs": [
    {
     "output_type": "execute_result",
     "data": {
      "text/plain": [
       "<Response [200]>"
      ]
     },
     "metadata": {},
     "execution_count": 8
    }
   ],
   "metadata": {}
  },
  {
   "cell_type": "code",
   "execution_count": 9,
   "source": [
    "city_weather.status_code"
   ],
   "outputs": [
    {
     "output_type": "execute_result",
     "data": {
      "text/plain": [
       "200"
      ]
     },
     "metadata": {},
     "execution_count": 9
    }
   ],
   "metadata": {}
  },
  {
   "cell_type": "code",
   "execution_count": 10,
   "source": [
    "# Create an endpoint URL for a city\r\n",
    "# Misspelled \"Boston\" to get 404 error\r\n",
    "city_url = url + \"&q=\" + \"Bston\"\r\n",
    "city_weather = requests.get(city_url)\r\n",
    "city_weather"
   ],
   "outputs": [
    {
     "output_type": "execute_result",
     "data": {
      "text/plain": [
       "<Response [404]>"
      ]
     },
     "metadata": {},
     "execution_count": 10
    }
   ],
   "metadata": {}
  },
  {
   "cell_type": "code",
   "execution_count": 11,
   "source": [
    "# Create an endpoint URL for a city.\r\n",
    "city_url = url + \"&q=\" + \"Boston\"\r\n",
    "city_weather = requests.get(city_url)\r\n",
    "city_weather"
   ],
   "outputs": [
    {
     "output_type": "execute_result",
     "data": {
      "text/plain": [
       "<Response [200]>"
      ]
     },
     "metadata": {},
     "execution_count": 11
    }
   ],
   "metadata": {}
  },
  {
   "cell_type": "code",
   "execution_count": 12,
   "source": [
    "# Get the text of the \"Get\" request.\r\n",
    "city_weather.text"
   ],
   "outputs": [
    {
     "output_type": "execute_result",
     "data": {
      "text/plain": [
       "'{\"coord\":{\"lon\":-71.0598,\"lat\":42.3584},\"weather\":[{\"id\":804,\"main\":\"Clouds\",\"description\":\"overcast clouds\",\"icon\":\"04d\"}],\"base\":\"stations\",\"main\":{\"temp\":57.45,\"feels_like\":56.1,\"temp_min\":54.28,\"temp_max\":60.04,\"pressure\":1018,\"humidity\":68},\"visibility\":10000,\"wind\":{\"speed\":7,\"deg\":334,\"gust\":13},\"clouds\":{\"all\":100},\"dt\":1633038846,\"sys\":{\"type\":2,\"id\":2013408,\"country\":\"US\",\"sunrise\":1632998420,\"sunset\":1633040867},\"timezone\":-14400,\"id\":4930956,\"name\":\"Boston\",\"cod\":200}'"
      ]
     },
     "metadata": {},
     "execution_count": 12
    }
   ],
   "metadata": {}
  },
  {
   "cell_type": "code",
   "execution_count": 13,
   "source": [
    "# Get the JSON text of the 'Get' request.\r\n",
    "city_weather.json()"
   ],
   "outputs": [
    {
     "output_type": "execute_result",
     "data": {
      "text/plain": [
       "{'coord': {'lon': -71.0598, 'lat': 42.3584},\n",
       " 'weather': [{'id': 804,\n",
       "   'main': 'Clouds',\n",
       "   'description': 'overcast clouds',\n",
       "   'icon': '04d'}],\n",
       " 'base': 'stations',\n",
       " 'main': {'temp': 57.45,\n",
       "  'feels_like': 56.1,\n",
       "  'temp_min': 54.28,\n",
       "  'temp_max': 60.04,\n",
       "  'pressure': 1018,\n",
       "  'humidity': 68},\n",
       " 'visibility': 10000,\n",
       " 'wind': {'speed': 7, 'deg': 334, 'gust': 13},\n",
       " 'clouds': {'all': 100},\n",
       " 'dt': 1633038846,\n",
       " 'sys': {'type': 2,\n",
       "  'id': 2013408,\n",
       "  'country': 'US',\n",
       "  'sunrise': 1632998420,\n",
       "  'sunset': 1633040867},\n",
       " 'timezone': -14400,\n",
       " 'id': 4930956,\n",
       " 'name': 'Boston',\n",
       " 'cod': 200}"
      ]
     },
     "metadata": {},
     "execution_count": 13
    }
   ],
   "metadata": {}
  },
  {
   "cell_type": "code",
   "execution_count": 14,
   "source": [
    "# Create an endpoint URL for a city.\r\n",
    "city_url = url + \"&q=\" + \"Boston\"\r\n",
    "city_weather = requests.get(city_url)\r\n",
    "if city_weather.status_code == 200:\r\n",
    "    print(f\"City Weather found.\")\r\n",
    "else:\r\n",
    "    print(f\"City weather not found.\")"
   ],
   "outputs": [
    {
     "output_type": "stream",
     "name": "stdout",
     "text": [
      "City Weather found.\n"
     ]
    }
   ],
   "metadata": {}
  },
  {
   "cell_type": "code",
   "execution_count": 15,
   "source": [
    "# Create an endpoint URL for a city.\r\n",
    "city_url = url + \"&q=\" + \"Bston\"\r\n",
    "city_weather = requests.get(city_url)\r\n",
    "if city_weather.status_code == 200:\r\n",
    "    print(f\"City Weather found.\")\r\n",
    "else:\r\n",
    "    print(f\"City weather not found.\")"
   ],
   "outputs": [
    {
     "output_type": "stream",
     "name": "stdout",
     "text": [
      "City weather not found.\n"
     ]
    }
   ],
   "metadata": {}
  },
  {
   "cell_type": "code",
   "execution_count": 16,
   "source": [
    "print(city_url)"
   ],
   "outputs": [
    {
     "output_type": "stream",
     "name": "stdout",
     "text": [
      "http://api.openweathermap.org/data/2.5/weather?units=Imperial&APPID=f0cb148ad20ab81ce62a794ee2720865&q=Bston\n"
     ]
    }
   ],
   "metadata": {}
  },
  {
   "cell_type": "code",
   "execution_count": 17,
   "source": [
    "# Create an endpoint URL for a city.\r\n",
    "city_url = url + \"&q=\" + \"Boston\"\r\n",
    "city_weather = requests.get(city_url)\r\n",
    "city_weather.json()"
   ],
   "outputs": [
    {
     "output_type": "execute_result",
     "data": {
      "text/plain": [
       "{'coord': {'lon': -71.0598, 'lat': 42.3584},\n",
       " 'weather': [{'id': 804,\n",
       "   'main': 'Clouds',\n",
       "   'description': 'overcast clouds',\n",
       "   'icon': '04d'}],\n",
       " 'base': 'stations',\n",
       " 'main': {'temp': 57.45,\n",
       "  'feels_like': 56.1,\n",
       "  'temp_min': 54.28,\n",
       "  'temp_max': 60.04,\n",
       "  'pressure': 1018,\n",
       "  'humidity': 68},\n",
       " 'visibility': 10000,\n",
       " 'wind': {'speed': 7, 'deg': 334, 'gust': 13},\n",
       " 'clouds': {'all': 100},\n",
       " 'dt': 1633038846,\n",
       " 'sys': {'type': 2,\n",
       "  'id': 2013408,\n",
       "  'country': 'US',\n",
       "  'sunrise': 1632998420,\n",
       "  'sunset': 1633040867},\n",
       " 'timezone': -14400,\n",
       " 'id': 4930956,\n",
       " 'name': 'Boston',\n",
       " 'cod': 200}"
      ]
     },
     "metadata": {},
     "execution_count": 17
    }
   ],
   "metadata": {}
  },
  {
   "cell_type": "code",
   "execution_count": 18,
   "source": [
    "# Get the JSON data.\r\n",
    "boston_data = city_weather.json()"
   ],
   "outputs": [],
   "metadata": {}
  },
  {
   "cell_type": "code",
   "execution_count": 24,
   "source": [
    "# 'sys' key to get corresponding value\r\n",
    "boston_data[\"sys\"][\"country\"]"
   ],
   "outputs": [
    {
     "output_type": "execute_result",
     "data": {
      "text/plain": [
       "'US'"
      ]
     },
     "metadata": {},
     "execution_count": 24
    }
   ],
   "metadata": {}
  },
  {
   "cell_type": "code",
   "execution_count": 25,
   "source": [
    "# Retrieve date in the weather data\r\n",
    "boston_data['dt']"
   ],
   "outputs": [
    {
     "output_type": "execute_result",
     "data": {
      "text/plain": [
       "1633038846"
      ]
     },
     "metadata": {},
     "execution_count": 25
    }
   ],
   "metadata": {}
  },
  {
   "cell_type": "code",
   "execution_count": 26,
   "source": [
    "lat = boston_data['coord']['lat']\r\n",
    "lng = boston_data['coord']['lon']\r\n",
    "max_temp = boston_data[\"main\"][\"temp_max\"]\r\n",
    "humidity = boston_data[\"main\"][\"humidity\"]\r\n",
    "clouds = boston_data[\"clouds\"][\"all\"]\r\n",
    "wind = boston_data[\"wind\"][\"speed\"]\r\n",
    "print(lat, lng, max_temp, humidity, clouds, wind)"
   ],
   "outputs": [
    {
     "output_type": "stream",
     "name": "stdout",
     "text": [
      "42.3584 -71.0598 60.04 68 100 7\n"
     ]
    }
   ],
   "metadata": {}
  },
  {
   "cell_type": "code",
   "execution_count": 27,
   "source": [
    "# Import the daetime module from the datetime library.\r\n",
    "from datetime import datetime\r\n",
    "# Get the date from the JSON file.\r\n",
    "date = boston_data['dt']\r\n",
    "# Convert the UTC date to a date format with a y,m,d,h,m, and s\r\n",
    "datetime.utcfromtimestamp(date).strftime('%Y-%m-%d %H:%M:%S')"
   ],
   "outputs": [
    {
     "output_type": "execute_result",
     "data": {
      "text/plain": [
       "'2021-09-30 21:54:06'"
      ]
     },
     "metadata": {},
     "execution_count": 27
    }
   ],
   "metadata": {}
  },
  {
   "cell_type": "code",
   "execution_count": null,
   "source": [],
   "outputs": [],
   "metadata": {}
  }
 ],
 "metadata": {
  "orig_nbformat": 4,
  "language_info": {
   "name": "python",
   "version": "3.7.10",
   "mimetype": "text/x-python",
   "codemirror_mode": {
    "name": "ipython",
    "version": 3
   },
   "pygments_lexer": "ipython3",
   "nbconvert_exporter": "python",
   "file_extension": ".py"
  },
  "kernelspec": {
   "name": "python3",
   "display_name": "Python 3.7.10 64-bit ('PythonData': conda)"
  },
  "interpreter": {
   "hash": "cde001575064237285d3a8e3841308f9ede4877341d1fd607f876d7506b0ac09"
  }
 },
 "nbformat": 4,
 "nbformat_minor": 2
}