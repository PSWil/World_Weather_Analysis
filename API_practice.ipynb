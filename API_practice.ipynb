{
 "cells": [
  {
   "cell_type": "code",
   "execution_count": 7,
   "source": [
    "# Create a practice set of random latitude and longitude combinations.\r\n",
    "x = [25.12903645, 25.92017388, 26.62509167, -59.98969384, 37.30571269]\r\n",
    "y = [-67.59741259, 11.09532135, 74.84233102, -76.89176677, -61.13376282]\r\n",
    "coordinates = zip(x, y)"
   ],
   "outputs": [],
   "metadata": {}
  },
  {
   "cell_type": "code",
   "execution_count": 8,
   "source": [
    "# Use the tuple() function to display the latitude and longitude combination\r\n",
    "for coordinate in coordinates:\r\n",
    "    print(coordinate[0], coordinate[1])"
   ],
   "outputs": [
    {
     "output_type": "stream",
     "name": "stdout",
     "text": [
      "25.12903645 -67.59741259\n",
      "25.92017388 11.09532135\n",
      "26.62509167 74.84233102\n",
      "-59.98969384 -76.89176677\n",
      "37.30571269 -61.13376282\n"
     ]
    }
   ],
   "metadata": {}
  },
  {
   "cell_type": "code",
   "execution_count": 9,
   "source": [
    "# Use the citipy module to determine city based on latitude and longitude.\r\n",
    "from citipy import citipy"
   ],
   "outputs": [],
   "metadata": {}
  },
  {
   "cell_type": "code",
   "execution_count": 10,
   "source": [
    "# Use the tuple() function to display the latitude and longitude combinations.\r\n",
    "for coordinate in coordinates:\r\n",
    "    print(citipy.nearest_city(coordinate[0], coordinate[1]).city_name,\r\n",
    "          citipy.nearest_city(coordinate[0], coordinate[1]).country_code)"
   ],
   "outputs": [],
   "metadata": {}
  },
  {
   "cell_type": "code",
   "execution_count": null,
   "source": [],
   "outputs": [],
   "metadata": {}
  }
 ],
 "metadata": {
  "orig_nbformat": 4,
  "language_info": {
   "name": "python",
   "version": "3.7.10",
   "mimetype": "text/x-python",
   "codemirror_mode": {
    "name": "ipython",
    "version": 3
   },
   "pygments_lexer": "ipython3",
   "nbconvert_exporter": "python",
   "file_extension": ".py"
  },
  "kernelspec": {
   "name": "python3",
   "display_name": "Python 3.7.10 64-bit ('PythonData': conda)"
  },
  "interpreter": {
   "hash": "cde001575064237285d3a8e3841308f9ede4877341d1fd607f876d7506b0ac09"
  }
 },
 "nbformat": 4,
 "nbformat_minor": 2
}