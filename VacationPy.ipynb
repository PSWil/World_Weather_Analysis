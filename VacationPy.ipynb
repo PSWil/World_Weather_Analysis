{
 "cells": [
  {
   "cell_type": "code",
   "execution_count": 1,
   "source": [
    "# Import the dependencies.\r\n",
    "import pandas as pd\r\n",
    "import gmaps\r\n",
    "import requests\r\n",
    "# Import the API key.\r\n",
    "from config import g_key"
   ],
   "outputs": [],
   "metadata": {}
  },
  {
   "cell_type": "code",
   "execution_count": 3,
   "source": [
    "# Store the CSV you saved created in part one into a DataFrame.\r\n",
    "city_data_df = pd.read_csv(\"weather_data/cities.csv\")\r\n",
    "#city_data_df.head()\r\n",
    "city_data_df.dtypes"
   ],
   "outputs": [
    {
     "output_type": "execute_result",
     "data": {
      "text/plain": [
       "City_ID         int64\n",
       "City           object\n",
       "Country        object\n",
       "Date           object\n",
       "Lat           float64\n",
       "Lng           float64\n",
       "Max Temp      float64\n",
       "Humidity        int64\n",
       "Cloudiness      int64\n",
       "Wind Speed    float64\n",
       "dtype: object"
      ]
     },
     "metadata": {},
     "execution_count": 3
    }
   ],
   "metadata": {}
  },
  {
   "cell_type": "code",
   "execution_count": 4,
   "source": [
    "# Configure gmaps to use your Google API key.\r\n",
    "gmaps.configure(api_key=g_key)"
   ],
   "outputs": [],
   "metadata": {}
  },
  {
   "cell_type": "code",
   "execution_count": 7,
   "source": [
    "# Get the maximum temperature.\r\n",
    "max_temp = city_data_df[\"Max Temp\"]\r\n",
    "temps = []\r\n",
    "for temp in max_temp:\r\n",
    "    temps.append(max(temp, 0))"
   ],
   "outputs": [],
   "metadata": {}
  },
  {
   "cell_type": "code",
   "execution_count": 14,
   "source": [
    "# Heatmap of temperature\r\n",
    "# Get the latitude and longitude.\r\n",
    "locations = city_data_df[[\"Lat\", \"Lng\"]]\r\n",
    "# Get the maximum temperature.\r\n",
    "max_temp = city_data_df[\"Max Temp\"]\r\n",
    "# Assign the figure variable.\r\n",
    "fig = gmaps.figure(center=(30.0, 31.0), zoom_level=2.5)\r\n",
    "# Assign the heatmap variable.\r\n",
    "heat_layer = gmaps.heatmap_layer(locations, weights=[max(temp, 0) for temp in max_temp], dissipating=False, max_intensity=300, point_radius=4)\r\n",
    "# Add the heatmap layer.\r\n",
    "fig.add_layer(heat_layer)\r\n",
    "# Call the figure to plot the data.\r\n",
    "fig"
   ],
   "outputs": [
    {
     "output_type": "display_data",
     "data": {
      "application/vnd.jupyter.widget-view+json": {
       "version_major": 2,
       "version_minor": 0,
       "model_id": "2917b6a25012459ab6d22c07407f2dc2"
      },
      "text/plain": [
       "Figure(layout=FigureLayout(height='420px'))"
      ]
     },
     "metadata": {}
    }
   ],
   "metadata": {}
  },
  {
   "cell_type": "code",
   "execution_count": 16,
   "source": [
    "# Heatmap of percent humidity\r\n",
    "locations = city_data_df[[\"Lat\", \"Lng\"]]\r\n",
    "humidity = city_data_df[\"Humidity\"]\r\n",
    "fig = gmaps.figure(center=(30.0, 31.0), zoom_level=2.5)\r\n",
    "heat_layer = gmaps.heatmap_layer(locations, weights=humidity, dissipating=False, max_intensity=300, point_radius=4)\r\n",
    "\r\n",
    "fig.add_layer(heat_layer)\r\n",
    "# Call the figure to plot the data.\r\n",
    "fig"
   ],
   "outputs": [
    {
     "output_type": "display_data",
     "data": {
      "application/vnd.jupyter.widget-view+json": {
       "version_major": 2,
       "version_minor": 0,
       "model_id": "8619d7f8f43d43abb4eb65c291fe2f17"
      },
      "text/plain": [
       "Figure(layout=FigureLayout(height='420px'))"
      ]
     },
     "metadata": {}
    }
   ],
   "metadata": {}
  },
  {
   "cell_type": "code",
   "execution_count": 17,
   "source": [
    "# Heatmap of percent Cloudiness\r\n",
    "locations = city_data_df[[\"Lat\", \"Lng\"]]\r\n",
    "clouds = city_data_df[\"Cloudiness\"]\r\n",
    "fig = gmaps.figure(center=(30.0, 31.0), zoom_level=2.5)\r\n",
    "heat_layer = gmaps.heatmap_layer(locations, weights=clouds, dissipating=False, max_intensity=300, point_radius=4)\r\n",
    "\r\n",
    "fig.add_layer(heat_layer)\r\n",
    "# Call the figure to plot the data.\r\n",
    "fig"
   ],
   "outputs": [
    {
     "output_type": "display_data",
     "data": {
      "application/vnd.jupyter.widget-view+json": {
       "version_major": 2,
       "version_minor": 0,
       "model_id": "8b387df7d6724ea8b114efba4b544962"
      },
      "text/plain": [
       "Figure(layout=FigureLayout(height='420px'))"
      ]
     },
     "metadata": {}
    }
   ],
   "metadata": {}
  },
  {
   "cell_type": "code",
   "execution_count": 19,
   "source": [
    "# Heatmap of percent Wind Speed\r\n",
    "locations = city_data_df[[\"Lat\", \"Lng\"]]\r\n",
    "wind = city_data_df[\"Wind Speed\"]\r\n",
    "fig = gmaps.figure(center=(30.0, 31.0), zoom_level=2.5)\r\n",
    "heat_layer = gmaps.heatmap_layer(locations, weights=wind, dissipating=False, max_intensity=300, point_radius=4)\r\n",
    "\r\n",
    "fig.add_layer(heat_layer)\r\n",
    "# Call the figure to plot the data.\r\n",
    "fig"
   ],
   "outputs": [
    {
     "output_type": "display_data",
     "data": {
      "application/vnd.jupyter.widget-view+json": {
       "version_major": 2,
       "version_minor": 0,
       "model_id": "fc665d774b7f4a448f2e27ec70da4f75"
      },
      "text/plain": [
       "Figure(layout=FigureLayout(height='420px'))"
      ]
     },
     "metadata": {}
    }
   ],
   "metadata": {}
  },
  {
   "cell_type": "code",
   "execution_count": 24,
   "source": [
    "# Ask the customer to add a minimum and maximum temperature value.\r\n",
    "min_temp = float(input(\"What is the minimum temperature you would like for your trip? \"))\r\n",
    "max_temp = float(input(\"What is the maximum temperature you would like for your trip? \"))\r\n",
    "\r\n",
    "# Filter the dataset to find the cities that fit the criteria.\r\n",
    "preferred_cities_df = city_data_df.loc[(city_data_df[\"Max Temp\"] <= max_temp) & \\\r\n",
    "                                       (city_data_df[\"Max Temp\"] >= min_temp)]\r\n",
    "preferred_cities_df.head(10)"
   ],
   "outputs": [
    {
     "output_type": "execute_result",
     "data": {
      "text/html": [
       "<div>\n",
       "<style scoped>\n",
       "    .dataframe tbody tr th:only-of-type {\n",
       "        vertical-align: middle;\n",
       "    }\n",
       "\n",
       "    .dataframe tbody tr th {\n",
       "        vertical-align: top;\n",
       "    }\n",
       "\n",
       "    .dataframe thead th {\n",
       "        text-align: right;\n",
       "    }\n",
       "</style>\n",
       "<table border=\"1\" class=\"dataframe\">\n",
       "  <thead>\n",
       "    <tr style=\"text-align: right;\">\n",
       "      <th></th>\n",
       "      <th>City_ID</th>\n",
       "      <th>City</th>\n",
       "      <th>Country</th>\n",
       "      <th>Date</th>\n",
       "      <th>Lat</th>\n",
       "      <th>Lng</th>\n",
       "      <th>Max Temp</th>\n",
       "      <th>Humidity</th>\n",
       "      <th>Cloudiness</th>\n",
       "      <th>Wind Speed</th>\n",
       "    </tr>\n",
       "  </thead>\n",
       "  <tbody>\n",
       "    <tr>\n",
       "      <th>3</th>\n",
       "      <td>3</td>\n",
       "      <td>Victoria</td>\n",
       "      <td>HK</td>\n",
       "      <td>2021-09-30 23:08:35</td>\n",
       "      <td>22.2855</td>\n",
       "      <td>114.1577</td>\n",
       "      <td>87.22</td>\n",
       "      <td>86</td>\n",
       "      <td>11</td>\n",
       "      <td>1.01</td>\n",
       "    </tr>\n",
       "    <tr>\n",
       "      <th>4</th>\n",
       "      <td>4</td>\n",
       "      <td>Cayenne</td>\n",
       "      <td>GF</td>\n",
       "      <td>2021-09-30 23:10:09</td>\n",
       "      <td>4.9333</td>\n",
       "      <td>-52.3333</td>\n",
       "      <td>83.08</td>\n",
       "      <td>78</td>\n",
       "      <td>0</td>\n",
       "      <td>3.00</td>\n",
       "    </tr>\n",
       "    <tr>\n",
       "      <th>13</th>\n",
       "      <td>13</td>\n",
       "      <td>Oistins</td>\n",
       "      <td>BB</td>\n",
       "      <td>2021-09-30 23:10:13</td>\n",
       "      <td>13.0667</td>\n",
       "      <td>-59.5333</td>\n",
       "      <td>84.29</td>\n",
       "      <td>70</td>\n",
       "      <td>40</td>\n",
       "      <td>12.66</td>\n",
       "    </tr>\n",
       "    <tr>\n",
       "      <th>17</th>\n",
       "      <td>17</td>\n",
       "      <td>Manicore</td>\n",
       "      <td>BR</td>\n",
       "      <td>2021-09-30 23:10:14</td>\n",
       "      <td>-5.8092</td>\n",
       "      <td>-61.3003</td>\n",
       "      <td>80.08</td>\n",
       "      <td>68</td>\n",
       "      <td>90</td>\n",
       "      <td>0.56</td>\n",
       "    </tr>\n",
       "    <tr>\n",
       "      <th>22</th>\n",
       "      <td>22</td>\n",
       "      <td>Ciudad Bolivar</td>\n",
       "      <td>VE</td>\n",
       "      <td>2021-09-30 23:10:16</td>\n",
       "      <td>8.1222</td>\n",
       "      <td>-63.5497</td>\n",
       "      <td>84.02</td>\n",
       "      <td>61</td>\n",
       "      <td>98</td>\n",
       "      <td>10.13</td>\n",
       "    </tr>\n",
       "    <tr>\n",
       "      <th>27</th>\n",
       "      <td>27</td>\n",
       "      <td>Bin Qirdan</td>\n",
       "      <td>TN</td>\n",
       "      <td>2021-09-30 23:10:17</td>\n",
       "      <td>33.1378</td>\n",
       "      <td>11.2197</td>\n",
       "      <td>75.94</td>\n",
       "      <td>64</td>\n",
       "      <td>0</td>\n",
       "      <td>5.46</td>\n",
       "    </tr>\n",
       "    <tr>\n",
       "      <th>29</th>\n",
       "      <td>29</td>\n",
       "      <td>Mabaruma</td>\n",
       "      <td>GY</td>\n",
       "      <td>2021-09-30 23:10:18</td>\n",
       "      <td>8.2000</td>\n",
       "      <td>-59.7833</td>\n",
       "      <td>77.00</td>\n",
       "      <td>85</td>\n",
       "      <td>100</td>\n",
       "      <td>3.89</td>\n",
       "    </tr>\n",
       "    <tr>\n",
       "      <th>31</th>\n",
       "      <td>31</td>\n",
       "      <td>High Rock</td>\n",
       "      <td>BS</td>\n",
       "      <td>2021-09-30 23:10:19</td>\n",
       "      <td>26.6208</td>\n",
       "      <td>-78.2833</td>\n",
       "      <td>82.42</td>\n",
       "      <td>72</td>\n",
       "      <td>4</td>\n",
       "      <td>15.35</td>\n",
       "    </tr>\n",
       "    <tr>\n",
       "      <th>35</th>\n",
       "      <td>35</td>\n",
       "      <td>Mitsamiouli</td>\n",
       "      <td>KM</td>\n",
       "      <td>2021-09-30 23:10:20</td>\n",
       "      <td>-11.3847</td>\n",
       "      <td>43.2844</td>\n",
       "      <td>75.87</td>\n",
       "      <td>82</td>\n",
       "      <td>47</td>\n",
       "      <td>8.39</td>\n",
       "    </tr>\n",
       "    <tr>\n",
       "      <th>38</th>\n",
       "      <td>38</td>\n",
       "      <td>Umm Lajj</td>\n",
       "      <td>SA</td>\n",
       "      <td>2021-09-30 23:10:21</td>\n",
       "      <td>25.0213</td>\n",
       "      <td>37.2685</td>\n",
       "      <td>81.10</td>\n",
       "      <td>66</td>\n",
       "      <td>0</td>\n",
       "      <td>5.88</td>\n",
       "    </tr>\n",
       "  </tbody>\n",
       "</table>\n",
       "</div>"
      ],
      "text/plain": [
       "    City_ID            City Country                 Date      Lat       Lng  \\\n",
       "3         3        Victoria      HK  2021-09-30 23:08:35  22.2855  114.1577   \n",
       "4         4         Cayenne      GF  2021-09-30 23:10:09   4.9333  -52.3333   \n",
       "13       13         Oistins      BB  2021-09-30 23:10:13  13.0667  -59.5333   \n",
       "17       17        Manicore      BR  2021-09-30 23:10:14  -5.8092  -61.3003   \n",
       "22       22  Ciudad Bolivar      VE  2021-09-30 23:10:16   8.1222  -63.5497   \n",
       "27       27      Bin Qirdan      TN  2021-09-30 23:10:17  33.1378   11.2197   \n",
       "29       29        Mabaruma      GY  2021-09-30 23:10:18   8.2000  -59.7833   \n",
       "31       31       High Rock      BS  2021-09-30 23:10:19  26.6208  -78.2833   \n",
       "35       35     Mitsamiouli      KM  2021-09-30 23:10:20 -11.3847   43.2844   \n",
       "38       38        Umm Lajj      SA  2021-09-30 23:10:21  25.0213   37.2685   \n",
       "\n",
       "    Max Temp  Humidity  Cloudiness  Wind Speed  \n",
       "3      87.22        86          11        1.01  \n",
       "4      83.08        78           0        3.00  \n",
       "13     84.29        70          40       12.66  \n",
       "17     80.08        68          90        0.56  \n",
       "22     84.02        61          98       10.13  \n",
       "27     75.94        64           0        5.46  \n",
       "29     77.00        85         100        3.89  \n",
       "31     82.42        72           4       15.35  \n",
       "35     75.87        82          47        8.39  \n",
       "38     81.10        66           0        5.88  "
      ]
     },
     "metadata": {},
     "execution_count": 24
    }
   ],
   "metadata": {}
  },
  {
   "cell_type": "code",
   "execution_count": 25,
   "source": [
    "preferred_cities_df.count()"
   ],
   "outputs": [
    {
     "output_type": "execute_result",
     "data": {
      "text/plain": [
       "City_ID       174\n",
       "City          174\n",
       "Country       174\n",
       "Date          174\n",
       "Lat           174\n",
       "Lng           174\n",
       "Max Temp      174\n",
       "Humidity      174\n",
       "Cloudiness    174\n",
       "Wind Speed    174\n",
       "dtype: int64"
      ]
     },
     "metadata": {},
     "execution_count": 25
    }
   ],
   "metadata": {}
  },
  {
   "cell_type": "code",
   "execution_count": 26,
   "source": [
    "# Create DataFrame called hotel_df to store hotel names along with city, country, max temp, and coordinates.\r\n",
    "hotel_df = preferred_cities_df[[\"City\", \"Country\", \"Max Temp\", \"Lat\", \"Lng\"]].copy()\r\n",
    "hotel_df[\"Hotel Name\"] = \"\"\r\n",
    "hotel_df.head(10)"
   ],
   "outputs": [
    {
     "output_type": "execute_result",
     "data": {
      "text/html": [
       "<div>\n",
       "<style scoped>\n",
       "    .dataframe tbody tr th:only-of-type {\n",
       "        vertical-align: middle;\n",
       "    }\n",
       "\n",
       "    .dataframe tbody tr th {\n",
       "        vertical-align: top;\n",
       "    }\n",
       "\n",
       "    .dataframe thead th {\n",
       "        text-align: right;\n",
       "    }\n",
       "</style>\n",
       "<table border=\"1\" class=\"dataframe\">\n",
       "  <thead>\n",
       "    <tr style=\"text-align: right;\">\n",
       "      <th></th>\n",
       "      <th>City</th>\n",
       "      <th>Country</th>\n",
       "      <th>Max Temp</th>\n",
       "      <th>Lat</th>\n",
       "      <th>Lng</th>\n",
       "      <th>Hotel Name</th>\n",
       "    </tr>\n",
       "  </thead>\n",
       "  <tbody>\n",
       "    <tr>\n",
       "      <th>3</th>\n",
       "      <td>Victoria</td>\n",
       "      <td>HK</td>\n",
       "      <td>87.22</td>\n",
       "      <td>22.2855</td>\n",
       "      <td>114.1577</td>\n",
       "      <td></td>\n",
       "    </tr>\n",
       "    <tr>\n",
       "      <th>4</th>\n",
       "      <td>Cayenne</td>\n",
       "      <td>GF</td>\n",
       "      <td>83.08</td>\n",
       "      <td>4.9333</td>\n",
       "      <td>-52.3333</td>\n",
       "      <td></td>\n",
       "    </tr>\n",
       "    <tr>\n",
       "      <th>13</th>\n",
       "      <td>Oistins</td>\n",
       "      <td>BB</td>\n",
       "      <td>84.29</td>\n",
       "      <td>13.0667</td>\n",
       "      <td>-59.5333</td>\n",
       "      <td></td>\n",
       "    </tr>\n",
       "    <tr>\n",
       "      <th>17</th>\n",
       "      <td>Manicore</td>\n",
       "      <td>BR</td>\n",
       "      <td>80.08</td>\n",
       "      <td>-5.8092</td>\n",
       "      <td>-61.3003</td>\n",
       "      <td></td>\n",
       "    </tr>\n",
       "    <tr>\n",
       "      <th>22</th>\n",
       "      <td>Ciudad Bolivar</td>\n",
       "      <td>VE</td>\n",
       "      <td>84.02</td>\n",
       "      <td>8.1222</td>\n",
       "      <td>-63.5497</td>\n",
       "      <td></td>\n",
       "    </tr>\n",
       "    <tr>\n",
       "      <th>27</th>\n",
       "      <td>Bin Qirdan</td>\n",
       "      <td>TN</td>\n",
       "      <td>75.94</td>\n",
       "      <td>33.1378</td>\n",
       "      <td>11.2197</td>\n",
       "      <td></td>\n",
       "    </tr>\n",
       "    <tr>\n",
       "      <th>29</th>\n",
       "      <td>Mabaruma</td>\n",
       "      <td>GY</td>\n",
       "      <td>77.00</td>\n",
       "      <td>8.2000</td>\n",
       "      <td>-59.7833</td>\n",
       "      <td></td>\n",
       "    </tr>\n",
       "    <tr>\n",
       "      <th>31</th>\n",
       "      <td>High Rock</td>\n",
       "      <td>BS</td>\n",
       "      <td>82.42</td>\n",
       "      <td>26.6208</td>\n",
       "      <td>-78.2833</td>\n",
       "      <td></td>\n",
       "    </tr>\n",
       "    <tr>\n",
       "      <th>35</th>\n",
       "      <td>Mitsamiouli</td>\n",
       "      <td>KM</td>\n",
       "      <td>75.87</td>\n",
       "      <td>-11.3847</td>\n",
       "      <td>43.2844</td>\n",
       "      <td></td>\n",
       "    </tr>\n",
       "    <tr>\n",
       "      <th>38</th>\n",
       "      <td>Umm Lajj</td>\n",
       "      <td>SA</td>\n",
       "      <td>81.10</td>\n",
       "      <td>25.0213</td>\n",
       "      <td>37.2685</td>\n",
       "      <td></td>\n",
       "    </tr>\n",
       "  </tbody>\n",
       "</table>\n",
       "</div>"
      ],
      "text/plain": [
       "              City Country  Max Temp      Lat       Lng Hotel Name\n",
       "3         Victoria      HK     87.22  22.2855  114.1577           \n",
       "4          Cayenne      GF     83.08   4.9333  -52.3333           \n",
       "13         Oistins      BB     84.29  13.0667  -59.5333           \n",
       "17        Manicore      BR     80.08  -5.8092  -61.3003           \n",
       "22  Ciudad Bolivar      VE     84.02   8.1222  -63.5497           \n",
       "27      Bin Qirdan      TN     75.94  33.1378   11.2197           \n",
       "29        Mabaruma      GY     77.00   8.2000  -59.7833           \n",
       "31       High Rock      BS     82.42  26.6208  -78.2833           \n",
       "35     Mitsamiouli      KM     75.87 -11.3847   43.2844           \n",
       "38        Umm Lajj      SA     81.10  25.0213   37.2685           "
      ]
     },
     "metadata": {},
     "execution_count": 26
    }
   ],
   "metadata": {}
  },
  {
   "cell_type": "code",
   "execution_count": 29,
   "source": [
    "# Set parameters to search for a hotel.\r\n",
    "params = {\r\n",
    "    \"radius\": 5000,\r\n",
    "    \"type\": \"lodging\",\r\n",
    "    \"key\": g_key\r\n",
    "}\r\n",
    "\r\n",
    "# Iterate through the DataFrame.\r\n",
    "for index, row in hotel_df.iterrows():\r\n",
    "    # Get the latitude and longitude.\r\n",
    "    lat = row[\"Lat\"]\r\n",
    "    lng = row[\"Lng\"]\r\n",
    "\r\n",
    "    # Add the latitude and longitude to location key for the params dictionary.\r\n",
    "    params[\"location\"] = f\"{lat},{lng}\"\r\n",
    "\r\n",
    "    # Use the search term: \"lodging\" and our latitude and longitude.\r\n",
    "    base_url = \"https://maps.googleapis.com/maps/api/place/nearbysearch/json\"\r\n",
    "    # Make request and get the JSON data from the search.\r\n",
    "    hotels = requests.get(base_url, params=params).json()\r\n",
    "    # Grab the first hotel from the results and store the name.\r\n",
    "    try:\r\n",
    "        hotel_df.loc[index, \"Hotel Name\"] = hotels[\"results\"][0][\"name\"]\r\n",
    "    except (IndexError):\r\n",
    "        print(\"Hotel not found... skipping.\")"
   ],
   "outputs": [
    {
     "output_type": "stream",
     "name": "stdout",
     "text": [
      "Hotel not found... skipping.\n",
      "Hotel not found... skipping.\n",
      "Hotel not found... skipping.\n",
      "Hotel not found... skipping.\n",
      "Hotel not found... skipping.\n",
      "Hotel not found... skipping.\n",
      "Hotel not found... skipping.\n",
      "Hotel not found... skipping.\n",
      "Hotel not found... skipping.\n",
      "Hotel not found... skipping.\n",
      "Hotel not found... skipping.\n",
      "Hotel not found... skipping.\n",
      "Hotel not found... skipping.\n",
      "Hotel not found... skipping.\n",
      "Hotel not found... skipping.\n"
     ]
    }
   ],
   "metadata": {}
  },
  {
   "cell_type": "code",
   "execution_count": 30,
   "source": [
    "hotel_df.head(10)"
   ],
   "outputs": [
    {
     "output_type": "execute_result",
     "data": {
      "text/html": [
       "<div>\n",
       "<style scoped>\n",
       "    .dataframe tbody tr th:only-of-type {\n",
       "        vertical-align: middle;\n",
       "    }\n",
       "\n",
       "    .dataframe tbody tr th {\n",
       "        vertical-align: top;\n",
       "    }\n",
       "\n",
       "    .dataframe thead th {\n",
       "        text-align: right;\n",
       "    }\n",
       "</style>\n",
       "<table border=\"1\" class=\"dataframe\">\n",
       "  <thead>\n",
       "    <tr style=\"text-align: right;\">\n",
       "      <th></th>\n",
       "      <th>City</th>\n",
       "      <th>Country</th>\n",
       "      <th>Max Temp</th>\n",
       "      <th>Lat</th>\n",
       "      <th>Lng</th>\n",
       "      <th>Hotel Name</th>\n",
       "    </tr>\n",
       "  </thead>\n",
       "  <tbody>\n",
       "    <tr>\n",
       "      <th>3</th>\n",
       "      <td>Victoria</td>\n",
       "      <td>HK</td>\n",
       "      <td>87.22</td>\n",
       "      <td>22.2855</td>\n",
       "      <td>114.1577</td>\n",
       "      <td>Mini Hotel Central</td>\n",
       "    </tr>\n",
       "    <tr>\n",
       "      <th>4</th>\n",
       "      <td>Cayenne</td>\n",
       "      <td>GF</td>\n",
       "      <td>83.08</td>\n",
       "      <td>4.9333</td>\n",
       "      <td>-52.3333</td>\n",
       "      <td>Hôtel Le Dronmi</td>\n",
       "    </tr>\n",
       "    <tr>\n",
       "      <th>13</th>\n",
       "      <td>Oistins</td>\n",
       "      <td>BB</td>\n",
       "      <td>84.29</td>\n",
       "      <td>13.0667</td>\n",
       "      <td>-59.5333</td>\n",
       "      <td>Butterfly Beach Hotel</td>\n",
       "    </tr>\n",
       "    <tr>\n",
       "      <th>17</th>\n",
       "      <td>Manicore</td>\n",
       "      <td>BR</td>\n",
       "      <td>80.08</td>\n",
       "      <td>-5.8092</td>\n",
       "      <td>-61.3003</td>\n",
       "      <td>Hotel Durval</td>\n",
       "    </tr>\n",
       "    <tr>\n",
       "      <th>22</th>\n",
       "      <td>Ciudad Bolivar</td>\n",
       "      <td>VE</td>\n",
       "      <td>84.02</td>\n",
       "      <td>8.1222</td>\n",
       "      <td>-63.5497</td>\n",
       "      <td>Hotel Edi</td>\n",
       "    </tr>\n",
       "    <tr>\n",
       "      <th>27</th>\n",
       "      <td>Bin Qirdan</td>\n",
       "      <td>TN</td>\n",
       "      <td>75.94</td>\n",
       "      <td>33.1378</td>\n",
       "      <td>11.2197</td>\n",
       "      <td>Hôtel Palace</td>\n",
       "    </tr>\n",
       "    <tr>\n",
       "      <th>29</th>\n",
       "      <td>Mabaruma</td>\n",
       "      <td>GY</td>\n",
       "      <td>77.00</td>\n",
       "      <td>8.2000</td>\n",
       "      <td>-59.7833</td>\n",
       "      <td>Monty Brooms Guest House</td>\n",
       "    </tr>\n",
       "    <tr>\n",
       "      <th>31</th>\n",
       "      <td>High Rock</td>\n",
       "      <td>BS</td>\n",
       "      <td>82.42</td>\n",
       "      <td>26.6208</td>\n",
       "      <td>-78.2833</td>\n",
       "      <td>Hideaway Bahamas Beach Club</td>\n",
       "    </tr>\n",
       "    <tr>\n",
       "      <th>35</th>\n",
       "      <td>Mitsamiouli</td>\n",
       "      <td>KM</td>\n",
       "      <td>75.87</td>\n",
       "      <td>-11.3847</td>\n",
       "      <td>43.2844</td>\n",
       "      <td>Foyer ADM</td>\n",
       "    </tr>\n",
       "    <tr>\n",
       "      <th>38</th>\n",
       "      <td>Umm Lajj</td>\n",
       "      <td>SA</td>\n",
       "      <td>81.10</td>\n",
       "      <td>25.0213</td>\n",
       "      <td>37.2685</td>\n",
       "      <td>Moon light Furnished Units</td>\n",
       "    </tr>\n",
       "  </tbody>\n",
       "</table>\n",
       "</div>"
      ],
      "text/plain": [
       "              City Country  Max Temp      Lat       Lng  \\\n",
       "3         Victoria      HK     87.22  22.2855  114.1577   \n",
       "4          Cayenne      GF     83.08   4.9333  -52.3333   \n",
       "13         Oistins      BB     84.29  13.0667  -59.5333   \n",
       "17        Manicore      BR     80.08  -5.8092  -61.3003   \n",
       "22  Ciudad Bolivar      VE     84.02   8.1222  -63.5497   \n",
       "27      Bin Qirdan      TN     75.94  33.1378   11.2197   \n",
       "29        Mabaruma      GY     77.00   8.2000  -59.7833   \n",
       "31       High Rock      BS     82.42  26.6208  -78.2833   \n",
       "35     Mitsamiouli      KM     75.87 -11.3847   43.2844   \n",
       "38        Umm Lajj      SA     81.10  25.0213   37.2685   \n",
       "\n",
       "                     Hotel Name  \n",
       "3            Mini Hotel Central  \n",
       "4               Hôtel Le Dronmi  \n",
       "13        Butterfly Beach Hotel  \n",
       "17                 Hotel Durval  \n",
       "22                    Hotel Edi  \n",
       "27                 Hôtel Palace  \n",
       "29     Monty Brooms Guest House  \n",
       "31  Hideaway Bahamas Beach Club  \n",
       "35                    Foyer ADM  \n",
       "38   Moon light Furnished Units  "
      ]
     },
     "metadata": {},
     "execution_count": 30
    }
   ],
   "metadata": {}
  },
  {
   "cell_type": "code",
   "execution_count": 34,
   "source": [
    "# Add a heatmap of temperature for the vacation spots and marker for each city.\r\n",
    "locations = hotel_df[[\"Lat\", \"Lng\"]]\r\n",
    "max_temp = hotel_df[\"Max Temp\"]\r\n",
    "fig = gmaps.figure(center=(30.0, 31.0), zoom_level=1.5)\r\n",
    "heat_layer = gmaps.heatmap_layer(locations, weights=max_temp,\r\n",
    "             dissipating=False, max_intensity=300, point_radius=4)\r\n",
    "marker_layer = gmaps.marker_layer(locations)\r\n",
    "fig.add_layer(heat_layer)\r\n",
    "fig.add_layer(marker_layer)\r\n",
    "# Call the figure to plot the data.\r\n",
    "fig"
   ],
   "outputs": [
    {
     "output_type": "display_data",
     "data": {
      "application/vnd.jupyter.widget-view+json": {
       "version_major": 2,
       "version_minor": 0,
       "model_id": "4d35907c41d94e44b942cc458f48978c"
      },
      "text/plain": [
       "Figure(layout=FigureLayout(height='420px'))"
      ]
     },
     "metadata": {}
    }
   ],
   "metadata": {}
  },
  {
   "cell_type": "code",
   "execution_count": 35,
   "source": [
    "info_box_template = \"\"\"\r\n",
    "<dl>\r\n",
    "<dt>Hotel Name</dt><dd>{Hotel Name}</dd>\r\n",
    "<dt>City</dt><dd>{City}</dd>\r\n",
    "<dt>Country</dt><dd>{Country}</dd>\r\n",
    "<dt>Max Temp</dt><dd>{Max Temp} °F</dd>\r\n",
    "</dl>\r\n",
    "\"\"\"\r\n",
    "\r\n",
    "# Store the DataFrame Row.\r\n",
    "hotel_info = [info_box_template.format(**row) for index, row in hotel_df.iterrows()]"
   ],
   "outputs": [],
   "metadata": {}
  },
  {
   "cell_type": "code",
   "execution_count": 36,
   "source": [
    "# Add a heatmap of temperature for the vacation spots and a pop-up marker for each city.\r\n",
    "locations = hotel_df[[\"Lat\", \"Lng\"]]\r\n",
    "max_temp = hotel_df[\"Max Temp\"]\r\n",
    "fig = gmaps.figure(center=(30.0, 31.0), zoom_level=1.5)\r\n",
    "heat_layer = gmaps.heatmap_layer(locations, weights=max_temp,dissipating=False,\r\n",
    "             max_intensity=300, point_radius=4)\r\n",
    "marker_layer = gmaps.marker_layer(locations, info_box_content=hotel_info)\r\n",
    "fig.add_layer(heat_layer)\r\n",
    "fig.add_layer(marker_layer)\r\n",
    "\r\n",
    "# Call the figure to plot the data.\r\n",
    "fig"
   ],
   "outputs": [
    {
     "output_type": "display_data",
     "data": {
      "application/vnd.jupyter.widget-view+json": {
       "version_major": 2,
       "version_minor": 0,
       "model_id": "0d87229d33c240c982b02ceb542ff186"
      },
      "text/plain": [
       "Figure(layout=FigureLayout(height='420px'))"
      ]
     },
     "metadata": {}
    }
   ],
   "metadata": {}
  }
 ],
 "metadata": {
  "interpreter": {
   "hash": "cde001575064237285d3a8e3841308f9ede4877341d1fd607f876d7506b0ac09"
  },
  "kernelspec": {
   "name": "python3",
   "display_name": "Python 3.7.10 64-bit ('PythonData': conda)"
  },
  "language_info": {
   "codemirror_mode": {
    "name": "ipython",
    "version": 3
   },
   "file_extension": ".py",
   "mimetype": "text/x-python",
   "name": "python",
   "nbconvert_exporter": "python",
   "pygments_lexer": "ipython3",
   "version": "3.7.10"
  }
 },
 "nbformat": 4,
 "nbformat_minor": 2
}