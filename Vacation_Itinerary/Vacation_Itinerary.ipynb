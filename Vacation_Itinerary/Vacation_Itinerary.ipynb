{
 "cells": [
  {
   "cell_type": "markdown",
   "source": [
    "## Deliverable 3. Create a Travel Itinerary Map."
   ],
   "metadata": {}
  },
  {
   "cell_type": "code",
   "execution_count": 1,
   "source": [
    "# Dependencies and Setup\r\n",
    "import pandas as pd\r\n",
    "import requests\r\n",
    "import gmaps\r\n",
    "\r\n",
    "# Import API key\r\n",
    "from config import g_key\r\n",
    "\r\n",
    "# Configure gmaps\r\n",
    "gmaps.configure(api_key=g_key)"
   ],
   "outputs": [],
   "metadata": {}
  },
  {
   "cell_type": "code",
   "execution_count": 5,
   "source": [
    "# 1. Read the WeatherPy_vacation.csv into a DataFrame.\r\n",
    "clean_hotel_df = pd.read_csv(\"WeatherPy_vacation.csv\")\r\n",
    "clean_hotel_df.head()"
   ],
   "outputs": [
    {
     "output_type": "execute_result",
     "data": {
      "text/html": [
       "<div>\n",
       "<style scoped>\n",
       "    .dataframe tbody tr th:only-of-type {\n",
       "        vertical-align: middle;\n",
       "    }\n",
       "\n",
       "    .dataframe tbody tr th {\n",
       "        vertical-align: top;\n",
       "    }\n",
       "\n",
       "    .dataframe thead th {\n",
       "        text-align: right;\n",
       "    }\n",
       "</style>\n",
       "<table border=\"1\" class=\"dataframe\">\n",
       "  <thead>\n",
       "    <tr style=\"text-align: right;\">\n",
       "      <th></th>\n",
       "      <th>City_ID</th>\n",
       "      <th>City</th>\n",
       "      <th>Country</th>\n",
       "      <th>Max Temp</th>\n",
       "      <th>Current Description</th>\n",
       "      <th>Lat</th>\n",
       "      <th>Lng</th>\n",
       "      <th>Hotel Name</th>\n",
       "    </tr>\n",
       "  </thead>\n",
       "  <tbody>\n",
       "    <tr>\n",
       "      <th>0</th>\n",
       "      <td>1</td>\n",
       "      <td>Rocha</td>\n",
       "      <td>UY</td>\n",
       "      <td>53.92</td>\n",
       "      <td>moderate rain</td>\n",
       "      <td>-34.4833</td>\n",
       "      <td>-54.3333</td>\n",
       "      <td>Beleza Pura B&amp;B</td>\n",
       "    </tr>\n",
       "    <tr>\n",
       "      <th>1</th>\n",
       "      <td>5</td>\n",
       "      <td>Mataura</td>\n",
       "      <td>NZ</td>\n",
       "      <td>53.47</td>\n",
       "      <td>overcast clouds</td>\n",
       "      <td>-46.1927</td>\n",
       "      <td>168.8643</td>\n",
       "      <td>Ellie's Villa</td>\n",
       "    </tr>\n",
       "    <tr>\n",
       "      <th>2</th>\n",
       "      <td>6</td>\n",
       "      <td>Thompson</td>\n",
       "      <td>CA</td>\n",
       "      <td>62.38</td>\n",
       "      <td>scattered clouds</td>\n",
       "      <td>55.7435</td>\n",
       "      <td>-97.8558</td>\n",
       "      <td>Burntwood Hotel</td>\n",
       "    </tr>\n",
       "    <tr>\n",
       "      <th>3</th>\n",
       "      <td>9</td>\n",
       "      <td>Cidreira</td>\n",
       "      <td>BR</td>\n",
       "      <td>62.91</td>\n",
       "      <td>overcast clouds</td>\n",
       "      <td>-30.1811</td>\n",
       "      <td>-50.2056</td>\n",
       "      <td>Hotel Castelo</td>\n",
       "    </tr>\n",
       "    <tr>\n",
       "      <th>4</th>\n",
       "      <td>11</td>\n",
       "      <td>Dunedin</td>\n",
       "      <td>NZ</td>\n",
       "      <td>53.80</td>\n",
       "      <td>overcast clouds</td>\n",
       "      <td>-45.8742</td>\n",
       "      <td>170.5036</td>\n",
       "      <td>Scenic Hotel Southern Cross</td>\n",
       "    </tr>\n",
       "  </tbody>\n",
       "</table>\n",
       "</div>"
      ],
      "text/plain": [
       "   City_ID      City Country  Max Temp Current Description      Lat       Lng  \\\n",
       "0        1     Rocha      UY     53.92       moderate rain -34.4833  -54.3333   \n",
       "1        5   Mataura      NZ     53.47     overcast clouds -46.1927  168.8643   \n",
       "2        6  Thompson      CA     62.38    scattered clouds  55.7435  -97.8558   \n",
       "3        9  Cidreira      BR     62.91     overcast clouds -30.1811  -50.2056   \n",
       "4       11   Dunedin      NZ     53.80     overcast clouds -45.8742  170.5036   \n",
       "\n",
       "                    Hotel Name  \n",
       "0              Beleza Pura B&B  \n",
       "1                Ellie's Villa  \n",
       "2              Burntwood Hotel  \n",
       "3                Hotel Castelo  \n",
       "4  Scenic Hotel Southern Cross  "
      ]
     },
     "metadata": {},
     "execution_count": 5
    }
   ],
   "metadata": {}
  },
  {
   "cell_type": "code",
   "execution_count": 6,
   "source": [
    "# 2. Using the template add the city name, the country code, the weather description and maximum temperature for the city.\r\n",
    "info_box_template = \"\"\"\r\n",
    "<dl>\r\n",
    "<dt>Hotel Name</dt><dd>{Hotel Name}</dd>\r\n",
    "<dt>City</dt><dd>{City}</dd>\r\n",
    "<dt>Country</dt><dd>{Country}</dd>\r\n",
    "<dt>Weather Description</dt><dd>{Current Description}</dd>\r\n",
    "<dt>Max Temp</dt><dd>{Max Temp} °F</dd>\r\n",
    "</dl>\r\n",
    "\"\"\"\r\n",
    "\r\n",
    "# 3a. Get the data from each row and add it to the formatting template and store the data in a list.\r\n",
    "hotel_info = [info_box_template.format(**row) for index, row in clean_hotel_df.iterrows()]\r\n",
    "\r\n",
    "# 3b. Get the latitude and longitude from each row and store in a new DataFrame.\r\n",
    "locations = clean_hotel_df[[\"Lat\", \"Lng\"]]"
   ],
   "outputs": [],
   "metadata": {}
  },
  {
   "cell_type": "code",
   "execution_count": 7,
   "source": [
    "# 4a. Add a marker layer for each city to the map.\r\n",
    "fig = gmaps.figure(center=(30.0, 31.0), zoom_level=1.4)\r\n",
    "marker_layer = gmaps.marker_layer(locations, info_box_content=hotel_info)\r\n",
    "fig.add_layer(marker_layer)\r\n",
    "\r\n",
    "# 4b. Display the figure\r\n",
    "fig"
   ],
   "outputs": [
    {
     "output_type": "display_data",
     "data": {
      "application/vnd.jupyter.widget-view+json": {
       "version_major": 2,
       "version_minor": 0,
       "model_id": "29187c4cef9b46b295c30ddbe217689a"
      },
      "text/plain": [
       "Figure(layout=FigureLayout(height='420px'))"
      ]
     },
     "metadata": {}
    }
   ],
   "metadata": {}
  },
  {
   "cell_type": "code",
   "execution_count": 8,
   "source": [
    "# From the map above pick 4 cities and create a vacation itinerary route to travel between the four cities. \r\n",
    "# 5. Create DataFrames for each city by filtering the 'vacation_df' using the loc method. \r\n",
    "# Hint: The starting and ending city should be the same city.\r\n",
    "\r\n",
    "vacation_start = vacation_df.loc[vacation_df['City'] == 'Zola Predosa']\r\n",
    "vacation_end = vacation_df.loc[vacation_df['City'] == 'Zola Predosa']\r\n",
    "vacation_stop1 = vacation_df.loc[vacation_df['City'] == 'Ulma']\r\n",
    "vacation_stop2 = vacation_df.loc[vacation_df['City'] == 'Murzzuschlag'] \r\n",
    "vacation_stop3 = vacation_df.loc[vacation_df['City'] == 'Siklos'] \r\n",
    "vacation_stop3"
   ],
   "outputs": [
    {
     "output_type": "execute_result",
     "data": {
      "text/html": [
       "<div>\n",
       "<style scoped>\n",
       "    .dataframe tbody tr th:only-of-type {\n",
       "        vertical-align: middle;\n",
       "    }\n",
       "\n",
       "    .dataframe tbody tr th {\n",
       "        vertical-align: top;\n",
       "    }\n",
       "\n",
       "    .dataframe thead th {\n",
       "        text-align: right;\n",
       "    }\n",
       "</style>\n",
       "<table border=\"1\" class=\"dataframe\">\n",
       "  <thead>\n",
       "    <tr style=\"text-align: right;\">\n",
       "      <th></th>\n",
       "      <th>City_ID</th>\n",
       "      <th>City</th>\n",
       "      <th>Country</th>\n",
       "      <th>Max Temp</th>\n",
       "      <th>Current Description</th>\n",
       "      <th>Lat</th>\n",
       "      <th>Lng</th>\n",
       "      <th>Hotel Name</th>\n",
       "    </tr>\n",
       "  </thead>\n",
       "  <tbody>\n",
       "    <tr>\n",
       "      <th>137</th>\n",
       "      <td>535</td>\n",
       "      <td>Siklos</td>\n",
       "      <td>HU</td>\n",
       "      <td>52.02</td>\n",
       "      <td>clear sky</td>\n",
       "      <td>45.855</td>\n",
       "      <td>18.2975</td>\n",
       "      <td>Baranya Hotel Üdülőház</td>\n",
       "    </tr>\n",
       "  </tbody>\n",
       "</table>\n",
       "</div>"
      ],
      "text/plain": [
       "     City_ID    City Country  Max Temp Current Description     Lat      Lng  \\\n",
       "137      535  Siklos      HU     52.02           clear sky  45.855  18.2975   \n",
       "\n",
       "                 Hotel Name  \n",
       "137  Baranya Hotel Üdülőház  "
      ]
     },
     "metadata": {},
     "execution_count": 8
    }
   ],
   "metadata": {}
  },
  {
   "cell_type": "code",
   "execution_count": 9,
   "source": [
    "# 6. Get the latitude-longitude pairs as tuples from each city DataFrame using the to_numpy function and list indexing.\r\n",
    "start = vacation_start.iloc[0,5:7].to_numpy()\r\n",
    "end = vacation_end.iloc[0,5:7].to_numpy()\r\n",
    "stop1 = vacation_stop1.iloc[0,5:7].to_numpy()\r\n",
    "stop2 = vacation_stop2.iloc[0,5:7].to_numpy()\r\n",
    "stop3 = vacation_stop3.iloc[0,5:7].to_numpy()\r\n",
    "\r\n",
    "start"
   ],
   "outputs": [
    {
     "output_type": "execute_result",
     "data": {
      "text/plain": [
       "array([44.4897, 11.2183], dtype=object)"
      ]
     },
     "metadata": {},
     "execution_count": 9
    }
   ],
   "metadata": {}
  },
  {
   "cell_type": "code",
   "execution_count": 15,
   "source": [
    "# 7. Create a direction layer map using the start and end latitude-longitude pairs,\r\n",
    "# and stop1, stop2, and stop3 as the waypoints. The travel_mode should be \"DRIVING\", \"BICYCLING\", or \"WALKING\".\r\n",
    "fig = gmaps.figure(center=(38, -122), zoom_level = 7)\r\n",
    "Zola_Predosa = start\r\n",
    "Ulma = stop1\r\n",
    "Murzzuschlag = stop2\r\n",
    "Siklos = stop3 \r\n",
    "roadtrip = gmaps.directions_layer(Zola_Predosa, Zola_Predosa, \r\n",
    "                                  waypoints=[Ulma, Murzzuschlag, Siklos],\r\n",
    "                                  travel_mode=\"DRIVING\")\r\n",
    "\r\n"
   ],
   "outputs": [],
   "metadata": {
    "scrolled": true
   }
  },
  {
   "cell_type": "code",
   "execution_count": 11,
   "source": [
    "# 8. To create a marker layer map between the four cities.\r\n",
    "#  Combine the four city DataFrames into one DataFrame using the concat() function.\r\n",
    "itinerary_df = pd.concat([vacation_start, vacation_stop1, \r\n",
    "                          vacation_stop2, vacation_stop3],ignore_index=True)\r\n",
    "itinerary_df"
   ],
   "outputs": [
    {
     "output_type": "execute_result",
     "data": {
      "text/html": [
       "<div>\n",
       "<style scoped>\n",
       "    .dataframe tbody tr th:only-of-type {\n",
       "        vertical-align: middle;\n",
       "    }\n",
       "\n",
       "    .dataframe tbody tr th {\n",
       "        vertical-align: top;\n",
       "    }\n",
       "\n",
       "    .dataframe thead th {\n",
       "        text-align: right;\n",
       "    }\n",
       "</style>\n",
       "<table border=\"1\" class=\"dataframe\">\n",
       "  <thead>\n",
       "    <tr style=\"text-align: right;\">\n",
       "      <th></th>\n",
       "      <th>City_ID</th>\n",
       "      <th>City</th>\n",
       "      <th>Country</th>\n",
       "      <th>Max Temp</th>\n",
       "      <th>Current Description</th>\n",
       "      <th>Lat</th>\n",
       "      <th>Lng</th>\n",
       "      <th>Hotel Name</th>\n",
       "    </tr>\n",
       "  </thead>\n",
       "  <tbody>\n",
       "    <tr>\n",
       "      <th>0</th>\n",
       "      <td>102</td>\n",
       "      <td>Zola Predosa</td>\n",
       "      <td>IT</td>\n",
       "      <td>64.35</td>\n",
       "      <td>clear sky</td>\n",
       "      <td>44.4897</td>\n",
       "      <td>11.2183</td>\n",
       "      <td>SHG Hotel Bologna</td>\n",
       "    </tr>\n",
       "    <tr>\n",
       "      <th>1</th>\n",
       "      <td>318</td>\n",
       "      <td>Ulma</td>\n",
       "      <td>DE</td>\n",
       "      <td>59.56</td>\n",
       "      <td>overcast clouds</td>\n",
       "      <td>48.3984</td>\n",
       "      <td>9.9916</td>\n",
       "      <td>Comfor Hotel &amp; Appartement Ulm</td>\n",
       "    </tr>\n",
       "    <tr>\n",
       "      <th>2</th>\n",
       "      <td>514</td>\n",
       "      <td>Murzzuschlag</td>\n",
       "      <td>AT</td>\n",
       "      <td>49.24</td>\n",
       "      <td>scattered clouds</td>\n",
       "      <td>47.6000</td>\n",
       "      <td>15.6833</td>\n",
       "      <td>Millenium Inn Apartments</td>\n",
       "    </tr>\n",
       "    <tr>\n",
       "      <th>3</th>\n",
       "      <td>535</td>\n",
       "      <td>Siklos</td>\n",
       "      <td>HU</td>\n",
       "      <td>52.02</td>\n",
       "      <td>clear sky</td>\n",
       "      <td>45.8550</td>\n",
       "      <td>18.2975</td>\n",
       "      <td>Baranya Hotel Üdülőház</td>\n",
       "    </tr>\n",
       "  </tbody>\n",
       "</table>\n",
       "</div>"
      ],
      "text/plain": [
       "   City_ID          City Country  Max Temp Current Description      Lat  \\\n",
       "0      102  Zola Predosa      IT     64.35           clear sky  44.4897   \n",
       "1      318          Ulma      DE     59.56     overcast clouds  48.3984   \n",
       "2      514  Murzzuschlag      AT     49.24    scattered clouds  47.6000   \n",
       "3      535        Siklos      HU     52.02           clear sky  45.8550   \n",
       "\n",
       "       Lng                      Hotel Name  \n",
       "0  11.2183               SHG Hotel Bologna  \n",
       "1   9.9916  Comfor Hotel & Appartement Ulm  \n",
       "2  15.6833        Millenium Inn Apartments  \n",
       "3  18.2975          Baranya Hotel Üdülőház  "
      ]
     },
     "metadata": {},
     "execution_count": 11
    }
   ],
   "metadata": {}
  },
  {
   "cell_type": "code",
   "execution_count": 12,
   "source": [
    "# 9 Using the template add city name, the country code, the weather description and maximum temperature for the city. \r\n",
    "info_box_template = \"\"\"\r\n",
    "<dl>\r\n",
    "<dt>Hotel Name</dt><dd>{Hotel Name}</dd>\r\n",
    "<dt>City</dt><dd>{City}</dd>\r\n",
    "<dt>Country</dt><dd>{Country}</dd>\r\n",
    "<dt>Weather Description</dt><dd>{Current Description}</dd>\r\n",
    "<dt>Max Temp</dt><dd>{Max Temp} °F</dd>\r\n",
    "</dl>\r\n",
    "\"\"\"\r\n",
    "\r\n",
    "# 10a Get the data from each row and add it to the formatting template and store the data in a list.\r\n",
    "hotel_info = [info_box_template.format(**row) for index, row in itinerary_df.iterrows()]\r\n",
    "\r\n",
    "# 10b. Get the latitude and longitude from each row and store in a new DataFrame.\r\n",
    "locations = itinerary_df[[\"Lat\", \"Lng\"]]"
   ],
   "outputs": [],
   "metadata": {}
  },
  {
   "cell_type": "code",
   "execution_count": 13,
   "source": [
    "# 11a. Add a marker layer for each city to the map.\r\n",
    "marker_layer = gmaps.marker_layer(locations, info_box_content=hotel_info)\r\n",
    "fig.add_layer(roadtrip)\r\n",
    "# 11b. Display the figure\r\n",
    "fig"
   ],
   "outputs": [
    {
     "output_type": "display_data",
     "data": {
      "application/vnd.jupyter.widget-view+json": {
       "version_major": 2,
       "version_minor": 0,
       "model_id": "57258dfdc0b74dadbffb0ed0da48c1ee"
      },
      "text/plain": [
       "Figure(layout=FigureLayout(height='420px'))"
      ]
     },
     "metadata": {}
    }
   ],
   "metadata": {}
  },
  {
   "cell_type": "code",
   "execution_count": 16,
   "source": [
    "# 12. Using the template add the city name, the country code, the weather description and maximum temperature for the city.\r\n",
    "info_box_template = \"\"\"\r\n",
    "<dl>\r\n",
    "<dt>Hotel Name</dt><dd>{Hotel Name}</dd>\r\n",
    "<dt>City</dt><dd>{City}</dd>\r\n",
    "<dt>Country</dt><dd>{Country}</dd>\r\n",
    "<dt>Weather Description</dt><dd>{Current Description}</dd>\r\n",
    "<dt>Max Temp</dt><dd>{Max Temp} °F</dd>\r\n",
    "</dl>\r\n",
    "\"\"\"\r\n",
    "\r\n",
    "# 13a. Get the data from each row and add it to the formatting template and store the data in a list.\r\n",
    "hotel_intenerary = [info_box_template.format(**row) for index, row in itinerary_df.iterrows()]\r\n",
    "\r\n",
    "# 13b. Get the latitude and longitude from each row and store in a new DataFrame.\r\n",
    "locations = itinerary_df[[\"Lat\", \"Lng\"]]"
   ],
   "outputs": [],
   "metadata": {}
  },
  {
   "cell_type": "code",
   "execution_count": 18,
   "source": [
    "# 14a. Add a marker layer for each city to the map.\r\n",
    "fig = gmaps.figure(center=(30.0, 31.0), zoom_level=1.4)\r\n",
    "marker_layer = gmaps.marker_layer(locations, info_box_content=hotel_intenerary)\r\n",
    "fig.add_layer(marker_layer)\r\n",
    "\r\n",
    "# 14b. Display the figure\r\n",
    "fig"
   ],
   "outputs": [
    {
     "output_type": "display_data",
     "data": {
      "application/vnd.jupyter.widget-view+json": {
       "version_major": 2,
       "version_minor": 0,
       "model_id": "9f2e7091fe9c4cc8bb94d291ad06d77d"
      },
      "text/plain": [
       "Figure(layout=FigureLayout(height='420px'))"
      ]
     },
     "metadata": {}
    }
   ],
   "metadata": {}
  }
 ],
 "metadata": {
  "kernelspec": {
   "name": "python3",
   "display_name": "Python 3.7.10 64-bit ('PythonData': conda)"
  },
  "language_info": {
   "codemirror_mode": {
    "name": "ipython",
    "version": 3
   },
   "file_extension": ".py",
   "mimetype": "text/x-python",
   "name": "python",
   "nbconvert_exporter": "python",
   "pygments_lexer": "ipython3",
   "version": "3.7.10"
  },
  "latex_envs": {
   "LaTeX_envs_menu_present": true,
   "autoclose": false,
   "autocomplete": true,
   "bibliofile": "biblio.bib",
   "cite_by": "apalike",
   "current_citInitial": 1,
   "eqLabelWithNumbers": true,
   "eqNumInitial": 1,
   "hotkeys": {
    "equation": "Ctrl-E",
    "itemize": "Ctrl-I"
   },
   "labels_anchors": false,
   "latex_user_defs": false,
   "report_style_numbering": false,
   "user_envs_cfg": false
  },
  "interpreter": {
   "hash": "cde001575064237285d3a8e3841308f9ede4877341d1fd607f876d7506b0ac09"
  }
 },
 "nbformat": 4,
 "nbformat_minor": 2
}